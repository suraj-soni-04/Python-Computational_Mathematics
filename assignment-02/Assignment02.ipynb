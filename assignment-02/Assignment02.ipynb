{
 "cells": [
  {
   "cell_type": "code",
   "execution_count": 1,
   "metadata": {},
   "outputs": [
    {
     "name": "stdout",
     "output_type": "stream",
     "text": [
      "Enter values for the coefficient matrix:\n",
      "Enter values for the constant matrix:\n",
      "Solution:\n",
      "x0 = 17.000000000000007\n",
      "x1 = -20.000000000000007\n",
      "x2 = -27.000000000000014\n"
     ]
    }
   ],
   "source": [
    "import numpy as np\n",
    "\n",
    "def gauss_elimination(a_matrix, b_matrix):\n",
    "    if a_matrix.shape[0] != a_matrix.shape[1]:\n",
    "        print(\"Irregular input - Coefficient matrix must be square\")\n",
    "        return\n",
    " \n",
    "    if b_matrix.shape != (a_matrix.shape[0], 1):\n",
    "        print(\"Problem with input constants - Check the dimensions\")\n",
    "        return\n",
    " \n",
    "    n = len(b_matrix)\n",
    "    x = np.zeros(n)\n",
    " \n",
    "    augmented_matrix = np.concatenate((a_matrix, b_matrix), axis=1)\n",
    " \n",
    "    for i in range(n):\n",
    "        max_row_index = i\n",
    "        for k in range(i+1, n):\n",
    "            if abs(augmented_matrix[k][i]) > abs(augmented_matrix[max_row_index][i]):\n",
    "                max_row_index = k\n",
    "        augmented_matrix[[i, max_row_index]] = augmented_matrix[[max_row_index, i]]\n",
    " \n",
    "        if augmented_matrix[i][i] == 0:\n",
    "            print(\"Zero pivot encountered - Gaussian Elimination cannot proceed.\")\n",
    "            return\n",
    " \n",
    "        for j in range(i+1, n):\n",
    "            scaling_factor = augmented_matrix[j][i] / augmented_matrix[i][i]\n",
    "            augmented_matrix[j] = augmented_matrix[j] - scaling_factor * augmented_matrix[i]\n",
    " \n",
    "    x[n-1] = augmented_matrix[n-1][n] / augmented_matrix[n-1][n-1]\n",
    "    for i in range(n-2, -1, -1):\n",
    "        summation = 0\n",
    "        for j in range(i+1, n):\n",
    "            summation += augmented_matrix[i][j] * x[j]\n",
    "        x[i] = (augmented_matrix[i][n] - summation) / augmented_matrix[i][i]\n",
    " \n",
    "    print(\"Solution:\")\n",
    "    for i in range(n):\n",
    "        print(f\"x{i} = {x[i]}\")\n",
    " \n",
    "\n",
    "print(\"Enter values for the coefficient matrix:\")\n",
    "variable_matrix = []\n",
    "for i in range(3):\n",
    "    row = input(\"Enter row values separated by space: \").split()\n",
    "    variable_matrix.append([float(val) for val in row])\n",
    "print(\"Enter values for the constant matrix:\")\n",
    "constant_matrix = []\n",
    "for i in range(3):\n",
    "    row = float(input(\"Enter constant value: \"))\n",
    "    constant_matrix.append([row])\n",
    "variable_matrix = np.array(variable_matrix)\n",
    "constant_matrix = np.array(constant_matrix)\n",
    " \n",
    "gauss_elimination(variable_matrix, constant_matrix)"
   ]
  }
 ],
 "metadata": {
  "kernelspec": {
   "display_name": "Python 3",
   "language": "python",
   "name": "python3"
  },
  "language_info": {
   "codemirror_mode": {
    "name": "ipython",
    "version": 3
   },
   "file_extension": ".py",
   "mimetype": "text/x-python",
   "name": "python",
   "nbconvert_exporter": "python",
   "pygments_lexer": "ipython3",
   "version": "3.12.1"
  }
 },
 "nbformat": 4,
 "nbformat_minor": 2
}
